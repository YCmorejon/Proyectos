{
 "cells": [
  {
   "cell_type": "code",
   "execution_count": 8,
   "id": "d0638e9a",
   "metadata": {},
   "outputs": [
    {
     "name": "stdout",
     "output_type": "stream",
     "text": [
      "Nombre : DELL\n",
      "Precio : $1.499.99931% OFF\n",
      "Nombre : LENOVO\n",
      "Precio : $913.59922% OFF\n",
      "Nombre : ACER\n",
      "Precio : $590.99943% OFF\n",
      "Nombre : LENOVO\n",
      "Precio : $819.99911% OFF\n",
      "Nombre : HP\n",
      "Precio : $804.99923% OFF\n"
     ]
    }
   ],
   "source": [
    "from bs4 import BeautifulSoup\n",
    "import requests\n",
    "\n",
    "handlers = {\n",
    "    'User-Agent': 'Mozilla/5.0 (Windows NT 10.0; Win64; x64) AppleWebKit/537.36 (KHTML, like Gecko) Chrome/120.0.0.0 Safari/537.36',\n",
    "    'Accept-Language': 'es-ES,es;q=0.9,en;q=0.8'\n",
    "}\n",
    "\n",
    "#Url para realizar la petición get \n",
    "URL = \"https://listado.mercadolibre.com.ar/laptops#D[A:laptops]\"\n",
    "\n",
    "#Realizando petición get\n",
    "respuesta = requests.get(URL)\n",
    "#Almacenando solicitud \n",
    "contenido = respuesta.content\n",
    "#Parsear html\n",
    "sopa = BeautifulSoup(contenido,\"html.parser\")\n",
    "#Busqueda inicial\n",
    "busqueda = sopa.find_all(\"div\",{\"class\" : \"poly-card__content\"})[0:5]\n",
    "#Extraer datos\n",
    "nombre =[dato.find(\"span\",{\"class\" : \"poly-component__brand\"}) for dato in busqueda]\n",
    "precio = [dato.find(\"div\",{\"class\" : \"poly-price__current\"}) for dato in busqueda]\n",
    "\n",
    "#Mostrar datos\n",
    "for name , price in zip(nombre,precio):\n",
    "    print(f\"Nombre : {name.text}\\nPrecio : {price.text}\")"
   ]
  },
  {
   "cell_type": "code",
   "execution_count": null,
   "id": "9244bf95",
   "metadata": {},
   "outputs": [],
   "source": []
  }
 ],
 "metadata": {
  "kernelspec": {
   "display_name": "Python 3",
   "language": "python",
   "name": "python3"
  },
  "language_info": {
   "codemirror_mode": {
    "name": "ipython",
    "version": 3
   },
   "file_extension": ".py",
   "mimetype": "text/x-python",
   "name": "python",
   "nbconvert_exporter": "python",
   "pygments_lexer": "ipython3",
   "version": "3.13.1"
  }
 },
 "nbformat": 4,
 "nbformat_minor": 5
}
