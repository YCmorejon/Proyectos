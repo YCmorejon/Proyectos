{
 "cells": [
  {
   "cell_type": "code",
   "execution_count": 3,
   "id": "da90261e",
   "metadata": {},
   "outputs": [
    {
     "name": "stdout",
     "output_type": "stream",
     "text": [
      "---\"No puedes comprar un paquete de datos porque ya te quedas sin comer\": la ola de malestar en Cuba por el aumento de las tarifas de internet5 junio 2025\n",
      "---Bill Gates asegura que dará la mayor parte de su fortuna de US$200.000 millones a África2 junio 2025\n",
      "---Manuel Blum, el venezolano que propuso \"un protocolo para resolver problemas imposibles\" y es el único latinoamericano en ganar el Premio Turing29 mayo 2025\n",
      "---La hermética fábrica de Arizona que expone las contradicciones del plan de Trump para impulsar una nueva \"edad de oro\" en EE.UU.28 mayo 2025\n",
      "---Por qué algunos expertos creen que la inteligencia artificial ya cobró conciencia 26 mayo 2025\n",
      "---\"Mi psicólogo de IA me ayudó a superar momentos difíciles\": los riesgos y beneficios de usar un chatbot como terapeuta25 mayo 2025\n",
      "---Quién es Jony Ive, el diseñador del iPhone que se une al creador de ChatGPT para desarrollar una \"nueva generación de computadoras\"22 mayo 2025\n",
      "---Trump anuncia la construcción de un \"domo dorado\" para la defensa aérea de EE.UU.20 mayo 2025\n",
      "---En qué consiste el mega-acuerdo de armas y tecnología con EE.UU. que proyecta a Arabia Saudita como una potencia militar14 mayo 2025\n",
      "---Orlando Bravo: cómo el primer milmillonario nacido en Puerto Rico amasó casi US$10.000 millones vendiendo un \"software aburrido\"13 mayo 2025\n"
     ]
    }
   ],
   "source": [
    "import requests\n",
    "from bs4 import BeautifulSoup\n",
    "\n",
    "#Dirrección de donde se extraerá los datos\n",
    "URL = \"https://www.bbc.com/mundo/topics/cyx5krnw38vt\"\n",
    "\n",
    "respuesta = requests.get(URL)\n",
    "contenido = respuesta.content\n",
    "sopa = BeautifulSoup(contenido,\"html.parser\")\n",
    "busqueda = sopa.find_all(\"div\",{\"class\" : \"promo-text\"})\n",
    "\n",
    "for idx, item in enumerate(busqueda[:10]):\n",
    "    print(f\"---{item.text}\")\n"
   ]
  }
 ],
 "metadata": {
  "kernelspec": {
   "display_name": "Python 3",
   "language": "python",
   "name": "python3"
  },
  "language_info": {
   "codemirror_mode": {
    "name": "ipython",
    "version": 3
   },
   "file_extension": ".py",
   "mimetype": "text/x-python",
   "name": "python",
   "nbconvert_exporter": "python",
   "pygments_lexer": "ipython3",
   "version": "3.13.1"
  }
 },
 "nbformat": 4,
 "nbformat_minor": 5
}
